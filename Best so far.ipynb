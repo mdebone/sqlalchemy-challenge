{
 "cells": [
  {
   "cell_type": "code",
   "execution_count": 1,
   "id": "736fd980-322e-4b67-a397-d5f76175cc57",
   "metadata": {},
   "outputs": [],
   "source": [
    "%matplotlib inline\n",
    "from matplotlib import style\n",
    "style.use('fivethirtyeight')\n",
    "import matplotlib.pyplot as plt"
   ]
  },
  {
   "cell_type": "code",
   "execution_count": 2,
   "id": "eaf3d96d-2019-4dd0-9c72-203890038d81",
   "metadata": {},
   "outputs": [],
   "source": [
    "import numpy as np\n",
    "import pandas as pd\n",
    "import datetime as dt"
   ]
  },
  {
   "cell_type": "code",
   "execution_count": 3,
   "id": "ed109d44-74a0-42b2-8945-da1281c5a74c",
   "metadata": {},
   "outputs": [],
   "source": [
    "# Reflect Tables into SQLAlchemy ORM\n",
    "# Python SQL toolkit and Object Relational Mapper\n",
    "import sqlalchemy\n",
    "from sqlalchemy.ext.automap import automap_base\n",
    "from sqlalchemy.orm import Session\n",
    "from sqlalchemy import create_engine, func, inspect"
   ]
  },
  {
   "cell_type": "code",
   "execution_count": 4,
   "id": "aea65ca0",
   "metadata": {},
   "outputs": [],
   "source": [
    "# create engine to hawaii.sqlite\n",
    "engine = create_engine(\"sqlite:///Resources/hawaii.sqlite\", echo=False)"
   ]
  },
  {
   "cell_type": "code",
   "execution_count": 5,
   "id": "d36e387c",
   "metadata": {},
   "outputs": [],
   "source": [
    "# reflect an existing database into a new model\n",
    "Base = automap_base()\n",
    "Base.metadata.create_all(engine)"
   ]
  },
  {
   "cell_type": "code",
   "execution_count": 6,
   "id": "5138f1f9",
   "metadata": {},
   "outputs": [],
   "source": [
    "# reflect the tables\n",
    "Base.prepare(engine, reflect = True)"
   ]
  },
  {
   "cell_type": "code",
   "execution_count": 7,
   "id": "35d05ee3",
   "metadata": {},
   "outputs": [],
   "source": [
    "# Create our session (link) from Python to the DB\n",
    "session = Session(bind=engine)"
   ]
  },
  {
   "cell_type": "code",
   "execution_count": 8,
   "id": "acf97136",
   "metadata": {},
   "outputs": [
    {
     "data": {
      "text/plain": [
       "['measurement', 'station']"
      ]
     },
     "execution_count": 8,
     "metadata": {},
     "output_type": "execute_result"
    }
   ],
   "source": [
    "# View all of the classes that automap found\n",
    "Base.classes.keys()"
   ]
  },
  {
   "cell_type": "code",
   "execution_count": 9,
   "id": "551429e9",
   "metadata": {},
   "outputs": [
    {
     "data": {
      "text/plain": [
       "['measurement', 'station']"
      ]
     },
     "execution_count": 9,
     "metadata": {},
     "output_type": "execute_result"
    }
   ],
   "source": [
    "inspector = inspect(engine)\n",
    "inspector.get_table_names()"
   ]
  },
  {
   "cell_type": "code",
   "execution_count": 10,
   "id": "5c4effe8",
   "metadata": {},
   "outputs": [
    {
     "name": "stdout",
     "output_type": "stream",
     "text": [
      "id INTEGER\n",
      "station TEXT\n",
      "date TEXT\n",
      "prcp FLOAT\n",
      "tobs FLOAT\n"
     ]
    }
   ],
   "source": [
    "# Get a list of column names and types from measurement\n",
    "measure_columns = inspector.get_columns('measurement')\n",
    "for c in measure_columns:\n",
    "    print(c['name'], c['type'])"
   ]
  },
  {
   "cell_type": "code",
   "execution_count": 12,
   "id": "aa0b8d4a",
   "metadata": {},
   "outputs": [
    {
     "name": "stdout",
     "output_type": "stream",
     "text": [
      "id INTEGER\n",
      "station TEXT\n",
      "name TEXT\n",
      "latitude FLOAT\n",
      "longitude FLOAT\n",
      "elevation FLOAT\n"
     ]
    }
   ],
   "source": [
    "# Get a list of column names and types from station\n",
    "station_columns = inspector.get_columns('station')\n",
    "for c in station_columns:\n",
    "    print(c['name'], c['type'])"
   ]
  },
  {
   "cell_type": "code",
   "execution_count": 13,
   "id": "4e5d1b08-69b1-45c1-b9fd-7500d74b44cf",
   "metadata": {},
   "outputs": [],
   "source": [
    "# Save references to each table\n",
    "Measurement = Base.classes.measurement\n",
    "Station = Base.classes.station"
   ]
  },
  {
   "cell_type": "code",
   "execution_count": 14,
   "id": "7776708a-f71f-4168-ac35-d916c0f41a26",
   "metadata": {},
   "outputs": [
    {
     "data": {
      "text/plain": [
       "[(19550,)]"
      ]
     },
     "execution_count": 14,
     "metadata": {},
     "output_type": "execute_result"
    }
   ],
   "source": [
    "# Exploratory Precipitation Analysis\n",
    "#Find the total dates\n",
    "session.query(func.count(Measurement.date)).all()"
   ]
  },
  {
   "cell_type": "code",
   "execution_count": 15,
   "id": "bbee652e",
   "metadata": {},
   "outputs": [
    {
     "data": {
      "text/plain": [
       "('2010-01-01',)"
      ]
     },
     "execution_count": 15,
     "metadata": {},
     "output_type": "execute_result"
    }
   ],
   "source": [
    "# Find the earliest date\n",
    "session.query(Measurement.date).order_by(Measurement.date).first()"
   ]
  },
  {
   "cell_type": "code",
   "execution_count": 16,
   "id": "b7811627",
   "metadata": {},
   "outputs": [
    {
     "data": {
      "text/plain": [
       "('2017-08-23',)"
      ]
     },
     "execution_count": 16,
     "metadata": {},
     "output_type": "execute_result"
    }
   ],
   "source": [
    "# Find the most recent date in the data set.\n",
    "session.query(Measurement.date).order_by(Measurement.date.desc()).first()"
   ]
  },
  {
   "cell_type": "code",
   "execution_count": null,
   "id": "45a08d5e",
   "metadata": {},
   "outputs": [],
   "source": [
    "# Combine percpitation values across stations\n"
   ]
  },
  {
   "cell_type": "code",
   "execution_count": 25,
   "id": "53dccfb3-d43d-48ad-9a1f-ac23acec72fb",
   "metadata": {},
   "outputs": [],
   "source": [
    "# Design a query to retrieve the last 12 months of precipitation data and plot the results.\n",
    "# okay we don't need the other part of the greater than because the end date is inclusive and doesnt need to be called\n",
    "last_year_dates = session.query(Measurement.date, Measurement.prcp).\\\n",
    "    filter(Measurement.date > '2016-08-23').\\\n",
    "    group_by(Measurement.date).\\\n",
    "    all()\n",
    "\n",
    "#last_year_dates"
   ]
  },
  {
   "cell_type": "code",
   "execution_count": 18,
   "id": "b1388c0c-1a35-41f2-9404-0e6ab5879243",
   "metadata": {},
   "outputs": [
    {
     "data": {
      "image/png": "[encoded data removed]",
      "text/plain": [
       "<Figure size 432x288 with 1 Axes>"
      ]
     },
     "metadata": {},
     "output_type": "display_data"
    }
   ],
   "source": [
    "# Save the query results as a Pandas DataFrame and set the index to the date column\n",
    "df = pd.DataFrame(last_year_dates, columns=['date', 'prcp'])\n",
    "df.set_index('date', inplace=True)\n",
    "df.plot.bar()\n",
    "plt.title(\"Year to Date Rainfall\")\n",
    "plt.xlabel(\"Date\")\n",
    "plt.ylabel(\"Inches\")\n",
    "plt.tight_layout()\n",
    "plt.show()"
   ]
  },
  {
   "cell_type": "code",
   "execution_count": 9,
   "id": "424f5116-92fd-4e4d-b57b-01d10eaae925",
   "metadata": {},
   "outputs": [
    {
     "ename": "NameError",
     "evalue": "name 'Measurement' is not defined",
     "output_type": "error",
     "traceback": [
      "\u001b[1;31m---------------------------------------------------------------------------\u001b[0m",
      "\u001b[1;31mNameError\u001b[0m                                 Traceback (most recent call last)",
      "\u001b[1;32m<ipython-input-9-c20892bffa09>\u001b[0m in \u001b[0;36m<module>\u001b[1;34m\u001b[0m\n\u001b[0;32m      1\u001b[0m \u001b[1;31m# okay there isn't one for every day, its 365\u001b[0m\u001b[1;33m\u001b[0m\u001b[1;33m\u001b[0m\u001b[1;33m\u001b[0m\u001b[0m\n\u001b[1;32m----> 2\u001b[1;33m \u001b[1;32mfor\u001b[0m \u001b[0mrow\u001b[0m \u001b[1;32min\u001b[0m \u001b[0msession\u001b[0m\u001b[1;33m.\u001b[0m\u001b[0mquery\u001b[0m\u001b[1;33m(\u001b[0m\u001b[0mMeasurement\u001b[0m\u001b[1;33m.\u001b[0m\u001b[0mid\u001b[0m\u001b[1;33m,\u001b[0m \u001b[0mMeasurement\u001b[0m\u001b[1;33m.\u001b[0m\u001b[0mdate\u001b[0m\u001b[1;33m,\u001b[0m \u001b[0mMeasurement\u001b[0m\u001b[1;33m.\u001b[0m\u001b[0mprcp\u001b[0m\u001b[1;33m)\u001b[0m\u001b[1;33m.\u001b[0m\u001b[0mlimit\u001b[0m\u001b[1;33m(\u001b[0m\u001b[1;36m15\u001b[0m\u001b[1;33m)\u001b[0m\u001b[1;33m.\u001b[0m\u001b[0mall\u001b[0m\u001b[1;33m(\u001b[0m\u001b[1;33m)\u001b[0m\u001b[1;33m:\u001b[0m\u001b[1;33m\u001b[0m\u001b[1;33m\u001b[0m\u001b[0m\n\u001b[0m\u001b[0;32m      3\u001b[0m     \u001b[0mprint\u001b[0m\u001b[1;33m(\u001b[0m\u001b[0mrow\u001b[0m\u001b[1;33m)\u001b[0m\u001b[1;33m\u001b[0m\u001b[1;33m\u001b[0m\u001b[0m\n",
      "\u001b[1;31mNameError\u001b[0m: name 'Measurement' is not defined"
     ]
    }
   ],
   "source": [
    "# okay there isn't one for every day, its 365\n",
    "for row in session.query(Measurement.id, Measurement.date, Measurement.prcp).limit(15).all():\n",
    "    print(row)"
   ]
  },
  {
   "cell_type": "code",
   "execution_count": null,
   "id": "b36e7a74-a5c8-411f-a176-8eca620b063a",
   "metadata": {},
   "outputs": [],
   "source": [
    "# okay there isn't one for every day, its 330\n",
    "# for row in session.query(Measurement.id, Measurement.date, Measurement.prcp).limit(365).all():\n",
    "#     print(row)"
   ]
  },
  {
   "cell_type": "code",
   "execution_count": null,
   "id": "91a1465e-d284-49bd-88ea-27c94bbfef6f",
   "metadata": {},
   "outputs": [],
   "source": [
    "# one more time, with feeling\n",
    "#for row in session.query(Measurement.id, Measurement.date, Measurement.prcp).limit(330).all():\n",
    "#    print(row)"
   ]
  },
  {
   "cell_type": "code",
   "execution_count": null,
   "id": "b55bd50b-3021-46e8-8060-21edf1a0d73e",
   "metadata": {},
   "outputs": [],
   "source": []
  },
  {
   "cell_type": "code",
   "execution_count": null,
   "id": "63077102-fcca-4f6e-87dc-bb7efc48707f",
   "metadata": {
    "tags": []
   },
   "outputs": [],
   "source": [
    "#results = session.query(Measurement).\\\n",
    "#    filter(Measurement.date.like('2017-%')).\\\n",
    "#    count()\n",
    "# results"
   ]
  },
  {
   "cell_type": "code",
   "execution_count": null,
   "id": "4c0eec83-725e-4b17-8d5c-af74442e94ce",
   "metadata": {},
   "outputs": [],
   "source": [
    "#from sqlalchemy import or_, and_\n",
    "#twentyseven = session.query(Measurement).\\\n",
    "#    filter(or_(Measurement.date > '2016-08-23', Measurement.date <= '2017-08-23')).\\\n",
    "#    count()\n",
    "#print(twentyseven)"
   ]
  },
  {
   "cell_type": "code",
   "execution_count": null,
   "id": "75ef1c51-e1bd-47f2-8d99-f30f827d1142",
   "metadata": {},
   "outputs": [],
   "source": [
    "#for row in session.query(Measurement.date, Measurement.prcp).filter(Measurement.date > '2016-08-23').all():\n",
    "#    print(row)"
   ]
  },
  {
   "cell_type": "code",
   "execution_count": null,
   "id": "3029527b-c912-4043-a096-1e6105d73086",
   "metadata": {},
   "outputs": [],
   "source": [
    "#records = session.query(Measurement.date, Measurement.prcp).\\\n",
    "#    filter(Measurement.date > '2016-12-31').\\\n",
    "#    all()\n",
    "    \n",
    "#for record in records:\n",
    "#    print(record)"
   ]
  },
  {
   "cell_type": "code",
   "execution_count": null,
   "id": "315745fc-637e-4dee-8e7b-46d16e4dfa86",
   "metadata": {},
   "outputs": [],
   "source": [
    "# Filter out 'None' and replace with '0.0'\n",
    "#update_nones = session.query(Measurement).update().where(Measurement.prcp == 'None').values(prcp='0.0')"
   ]
  },
  {
   "cell_type": "code",
   "execution_count": null,
   "id": "c2864019-d2fb-40a8-9d1d-82444e54a4f5",
   "metadata": {},
   "outputs": [],
   "source": [
    "#update_none =session.query(Measurement).where(Measurement.prcp == 'None').all()\n",
    "\n",
    "#print(update_none)"
   ]
  },
  {
   "cell_type": "code",
   "execution_count": null,
   "id": "37855cab-9afa-4aca-ae98-20d3bbf68f9e",
   "metadata": {},
   "outputs": [],
   "source": [
    "#session.new"
   ]
  },
  {
   "cell_type": "code",
   "execution_count": null,
   "id": "9a6e93ae-f1ba-4d94-b7de-121c360567f6",
   "metadata": {},
   "outputs": [],
   "source": [
    "#session.query(Measurement.prcp).all()"
   ]
  },
  {
   "cell_type": "code",
   "execution_count": null,
   "id": "41d12d81-0502-4935-8d3f-b9b664cc6123",
   "metadata": {},
   "outputs": [],
   "source": []
  },
  {
   "cell_type": "code",
   "execution_count": null,
   "id": "9579bf0d-fbe3-43af-a329-a67cafab7179",
   "metadata": {},
   "outputs": [],
   "source": [
    "# Starting from the most recent data point in the database. "
   ]
  },
  {
   "cell_type": "code",
   "execution_count": null,
   "id": "d3950a3e-d54d-4f88-a4f6-7d1ecf71e75b",
   "metadata": {},
   "outputs": [],
   "source": [
    "# Calculate the date one year from the last date in data set."
   ]
  },
  {
   "cell_type": "code",
   "execution_count": null,
   "id": "51a0931d-b337-4d4c-a65a-39eeb1bf6ae3",
   "metadata": {},
   "outputs": [],
   "source": [
    "# Perform a query to retrieve the date and precipitation scores"
   ]
  },
  {
   "cell_type": "code",
   "execution_count": null,
   "id": "cd12f948-15ec-4976-bcd8-d4721f2e1720",
   "metadata": {},
   "outputs": [],
   "source": [
    "# Save the query results as a Pandas DataFrame and set the index to the date column"
   ]
  },
  {
   "cell_type": "code",
   "execution_count": null,
   "id": "79899d74-f1b8-4f2f-9eef-7db589de2de0",
   "metadata": {},
   "outputs": [],
   "source": [
    "# Sort the dataframe by date"
   ]
  },
  {
   "cell_type": "code",
   "execution_count": null,
   "id": "1bbce4b3-2f94-4c1f-ab62-0c87d2d29bb6",
   "metadata": {},
   "outputs": [],
   "source": [
    "# Use Pandas Plotting with Matplotlib to plot the data"
   ]
  },
  {
   "cell_type": "code",
   "execution_count": 37,
   "id": "39e4b67c",
   "metadata": {},
   "outputs": [
    {
     "data": {
      "text/plain": [
       "[('USC00511918',),\n",
       " ('USC00513117',),\n",
       " ('USC00514830',),\n",
       " ('USC00516128',),\n",
       " ('USC00517948',),\n",
       " ('USC00518838',),\n",
       " ('USC00519281',),\n",
       " ('USC00519397',),\n",
       " ('USC00519523',)]"
      ]
     },
     "execution_count": 37,
     "metadata": {},
     "output_type": "execute_result"
    }
   ],
   "source": [
    "# Exploratory Station Analysis\n",
    "# Design a query to calculate the total number stations in the dataset\n",
    "station_number = session.query(Station.station).group_by(Station.station).all()\n",
    "station_number"
   ]
  },
  {
   "cell_type": "code",
   "execution_count": 56,
   "id": "4bc387f7-d084-44ea-950c-6be68e4ba6eb",
   "metadata": {},
   "outputs": [
    {
     "data": {
      "text/plain": [
       "[('USC00511918', 1979),\n",
       " ('USC00513117', 2709),\n",
       " ('USC00514830', 2202),\n",
       " ('USC00516128', 2612),\n",
       " ('USC00517948', 1372),\n",
       " ('USC00518838', 511),\n",
       " ('USC00519281', 2772),\n",
       " ('USC00519397', 2724),\n",
       " ('USC00519523', 2669)]"
      ]
     },
     "execution_count": 56,
     "metadata": {},
     "output_type": "execute_result"
    }
   ],
   "source": [
    "# Design a query to find the most active stations (i.e. what stations have the most rows?)\n",
    "most_active = session.query(Measurement.station, func.count(Measurement.station)).\\\n",
    "        group_by(Measurement.station).\\\n",
    "        order_by(Measurement.station).\\\n",
    "        all()\n",
    "\n",
    "most_active"
   ]
  },
  {
   "cell_type": "code",
   "execution_count": 63,
   "id": "6597369c-9591-4e98-9882-60f08de37774",
   "metadata": {},
   "outputs": [
    {
     "data": {
      "text/plain": [
       "<sqlalchemy.orm.query.Query at 0x210ee339d68>"
      ]
     },
     "execution_count": 63,
     "metadata": {},
     "output_type": "execute_result"
    }
   ],
   "source": [
    "# List the stations and the counts in descending order.\n",
    "descending = session.query(Measurement.station).order_by(Measurement.station.desc())\n",
    "descending"
   ]
  },
  {
   "cell_type": "code",
   "execution_count": null,
   "id": "06b77352-678d-424f-bf1e-56a510fd42e5",
   "metadata": {},
   "outputs": [],
   "source": [
    "# Using the most active station id from the previous query, calculate the lowest, highest, and average temperature."
   ]
  },
  {
   "cell_type": "code",
   "execution_count": null,
   "id": "f9dd03d6-2a31-4e31-b705-860a82e425dc",
   "metadata": {},
   "outputs": [],
   "source": [
    "# Using the most active station id"
   ]
  },
  {
   "cell_type": "code",
   "execution_count": null,
   "id": "d5fd367c-52a9-46b9-a1c6-783b7383aead",
   "metadata": {},
   "outputs": [],
   "source": [
    "# Query the last 12 months of temperature observation data for this station and plot the results as a histogram"
   ]
  },
  {
   "cell_type": "code",
   "execution_count": null,
   "id": "b36f6842-2545-4517-bc51-58f67444c77d",
   "metadata": {},
   "outputs": [],
   "source": [
    "# Close Session\n",
    "session.close()"
   ]
  }
 ],
 "metadata": {
  "kernelspec": {
   "display_name": "Python 3",
   "language": "python",
   "name": "python3"
  },
  "language_info": {
   "codemirror_mode": {
    "name": "ipython",
    "version": 3
   },
   "file_extension": ".py",
   "mimetype": "text/x-python",
   "name": "python",
   "nbconvert_exporter": "python",
   "pygments_lexer": "ipython3",
   "version": "3.6.13"
  }
 },
 "nbformat": 4,
 "nbformat_minor": 5
}
