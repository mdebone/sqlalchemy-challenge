{
 "cells": [
  {
   "cell_type": "code",
   "execution_count": 1,
   "id": "736fd980-322e-4b67-a397-d5f76175cc57",
   "metadata": {},
   "outputs": [],
   "source": [
    "%matplotlib inline\n",
    "from matplotlib import style\n",
    "style.use('fivethirtyeight')\n",
    "import matplotlib.pyplot as plt"
   ]
  },
  {
   "cell_type": "code",
   "execution_count": 2,
   "id": "eaf3d96d-2019-4dd0-9c72-203890038d81",
   "metadata": {},
   "outputs": [],
   "source": [
    "import numpy as np\n",
    "import pandas as pd\n",
    "import datetime as dt"
   ]
  },
  {
   "cell_type": "code",
   "execution_count": 3,
   "id": "ed109d44-74a0-42b2-8945-da1281c5a74c",
   "metadata": {},
   "outputs": [],
   "source": [
    "# Reflect Tables into SQLAlchemy ORM\n",
    "# Python SQL toolkit and Object Relational Mapper\n",
    "import sqlalchemy\n",
    "from sqlalchemy.ext.automap import automap_base\n",
    "from sqlalchemy.orm import Session\n",
    "from sqlalchemy import create_engine, func"
   ]
  },
  {
   "cell_type": "code",
   "execution_count": 4,
   "id": "a7fe669a-8908-4dd5-8664-6cfa15288771",
   "metadata": {},
   "outputs": [
    {
     "data": {
      "text/plain": [
       "'1.4.22'"
      ]
     },
     "execution_count": 4,
     "metadata": {},
     "output_type": "execute_result"
    }
   ],
   "source": [
    "sqlalchemy.__version__"
   ]
  },
  {
   "cell_type": "code",
   "execution_count": null,
   "id": "8ca63e28-821a-4178-a45b-1c24f8203d35",
   "metadata": {},
   "outputs": [],
   "source": []
  },
  {
   "cell_type": "code",
   "execution_count": 5,
   "id": "1a95b4ad-8820-4d18-a07d-53329a0abaf3",
   "metadata": {},
   "outputs": [],
   "source": [
    "# database_path = \"sqlalchemy-challenge/hawaii.sqlite\""
   ]
  },
  {
   "cell_type": "code",
   "execution_count": 6,
   "id": "feeca929-44c9-4439-b569-2facc3bc0cf9",
   "metadata": {},
   "outputs": [],
   "source": [
    "# create engine to hawaii.sqlite\n",
    "engine = create_engine(\"sqlite:///hawaii.sqlite\")"
   ]
  },
  {
   "cell_type": "code",
   "execution_count": 7,
   "id": "94a08a64-8816-4076-89a9-cf97947811ee",
   "metadata": {},
   "outputs": [],
   "source": [
    "# * data = engine.excute(\"SELECT * FROM hawaii LIMIT 1\")\n",
    "#  *columns = data.keys()\n",
    "# *columns"
   ]
  },
  {
   "cell_type": "code",
   "execution_count": 8,
   "id": "5ff0c5ef-7730-44a8-a294-e3f2968f0dcb",
   "metadata": {},
   "outputs": [],
   "source": [
    "# * ret = [for x in x data]\n",
    "# $ ret"
   ]
  },
  {
   "cell_type": "code",
   "execution_count": 9,
   "id": "944ba4c3-da34-4b4f-847f-5a2f92636a74",
   "metadata": {},
   "outputs": [],
   "source": [
    "# reflect an existing database into a new model\n",
    "Base = automap_base()"
   ]
  },
  {
   "cell_type": "code",
   "execution_count": 10,
   "id": "be5bd56b-9799-4d8b-b685-d9b5aaf628c5",
   "metadata": {},
   "outputs": [],
   "source": [
    "# reflect the tables\n",
    "Base.prepare(engine, reflect = True)"
   ]
  },
  {
   "cell_type": "code",
   "execution_count": 11,
   "id": "f469bcd9-7ea4-4799-af08-88a269a73b0d",
   "metadata": {},
   "outputs": [
    {
     "data": {
      "text/plain": [
       "['measurement', 'station']"
      ]
     },
     "execution_count": 11,
     "metadata": {},
     "output_type": "execute_result"
    }
   ],
   "source": [
    "# View all of the classes that automap found\n",
    "Base.classes.keys()"
   ]
  },
  {
   "cell_type": "code",
   "execution_count": 12,
   "id": "4e5d1b08-69b1-45c1-b9fd-7500d74b44cf",
   "metadata": {},
   "outputs": [],
   "source": [
    "# Save references to each table\n",
    "Measurement = Base.classes.measurement\n",
    "Station = Base.classes.station"
   ]
  },
  {
   "cell_type": "code",
   "execution_count": 13,
   "id": "d27b1934-5600-479a-8988-872752f222c5",
   "metadata": {},
   "outputs": [],
   "source": [
    "# Create our session (link) from Python to the DB\n",
    "session = Session(engine)"
   ]
  },
  {
   "cell_type": "code",
   "execution_count": null,
   "id": "73b5f050-2200-43e2-bbfd-a27aaf8dfd00",
   "metadata": {},
   "outputs": [],
   "source": []
  },
  {
   "cell_type": "code",
   "execution_count": null,
   "id": "7776708a-f71f-4168-ac35-d916c0f41a26",
   "metadata": {},
   "outputs": [],
   "source": [
    "# Exploratory Precipitation Analysis\n",
    "# Find the most recent date in the data set."
   ]
  },
  {
   "cell_type": "code",
   "execution_count": 14,
   "id": "3effe8ed-d903-4d5b-8de4-72c0140d8e8a",
   "metadata": {},
   "outputs": [
    {
     "data": {
      "text/plain": [
       "{'_sa_instance_state': <sqlalchemy.orm.state.InstanceState at 0x20b5de6def0>,\n",
       " 'station': 'USC00519397',\n",
       " 'latitude': 21.2716,\n",
       " 'elevation': 3.0,\n",
       " 'id': 1,\n",
       " 'name': 'WAIKIKI 717.2, HI US',\n",
       " 'longitude': -157.8168}"
      ]
     },
     "execution_count": 14,
     "metadata": {},
     "output_type": "execute_result"
    }
   ],
   "source": [
    "first_row = session.query(Station).first()\n",
    "first_row.__dict__"
   ]
  },
  {
   "cell_type": "code",
   "execution_count": 15,
   "id": "b1388c0c-1a35-41f2-9404-0e6ab5879243",
   "metadata": {},
   "outputs": [
    {
     "data": {
      "text/plain": [
       "{'_sa_instance_state': <sqlalchemy.orm.state.InstanceState at 0x20b5deb2f60>,\n",
       " 'date': '2010-01-01',\n",
       " 'tobs': 65.0,\n",
       " 'id': 1,\n",
       " 'prcp': 0.08,\n",
       " 'station': 'USC00519397'}"
      ]
     },
     "execution_count": 15,
     "metadata": {},
     "output_type": "execute_result"
    }
   ],
   "source": [
    "first_row2 = session.query(Measurement).first()\n",
    "first_row2.__dict__"
   ]
  },
  {
   "cell_type": "code",
   "execution_count": null,
   "id": "7db965ba-fe33-4ae4-88fc-09ed0c3755d5",
   "metadata": {},
   "outputs": [],
   "source": [
    "# Design a query to retrieve the last 12 months of precipitation data and plot the results. "
   ]
  },
  {
   "cell_type": "code",
   "execution_count": null,
   "id": "9579bf0d-fbe3-43af-a329-a67cafab7179",
   "metadata": {},
   "outputs": [],
   "source": [
    "# Starting from the most recent data point in the database. "
   ]
  },
  {
   "cell_type": "code",
   "execution_count": null,
   "id": "d3950a3e-d54d-4f88-a4f6-7d1ecf71e75b",
   "metadata": {},
   "outputs": [],
   "source": [
    "# Calculate the date one year from the last date in data set."
   ]
  },
  {
   "cell_type": "code",
   "execution_count": null,
   "id": "51a0931d-b337-4d4c-a65a-39eeb1bf6ae3",
   "metadata": {},
   "outputs": [],
   "source": [
    "# Perform a query to retrieve the data and precipitation scores"
   ]
  },
  {
   "cell_type": "code",
   "execution_count": null,
   "id": "cd12f948-15ec-4976-bcd8-d4721f2e1720",
   "metadata": {},
   "outputs": [],
   "source": [
    "# Save the query results as a Pandas DataFrame and set the index to the date column"
   ]
  },
  {
   "cell_type": "code",
   "execution_count": null,
   "id": "79899d74-f1b8-4f2f-9eef-7db589de2de0",
   "metadata": {},
   "outputs": [],
   "source": [
    "# Sort the dataframe by date"
   ]
  },
  {
   "cell_type": "code",
   "execution_count": null,
   "id": "1bbce4b3-2f94-4c1f-ab62-0c87d2d29bb6",
   "metadata": {},
   "outputs": [],
   "source": [
    "# Use Pandas Plotting with Matplotlib to plot the data"
   ]
  },
  {
   "cell_type": "code",
   "execution_count": null,
   "id": "da2e0255-85d9-4534-a1ad-ec37bf09b92b",
   "metadata": {},
   "outputs": [],
   "source": [
    "# Exploratory Station Analysis\n",
    "# Design a query to calculate the total number stations in the dataset"
   ]
  },
  {
   "cell_type": "code",
   "execution_count": null,
   "id": "4bc387f7-d084-44ea-950c-6be68e4ba6eb",
   "metadata": {},
   "outputs": [],
   "source": [
    "# Design a query to find the most active stations (i.e. what stations have the most rows?)"
   ]
  },
  {
   "cell_type": "code",
   "execution_count": null,
   "id": "6597369c-9591-4e98-9882-60f08de37774",
   "metadata": {},
   "outputs": [],
   "source": [
    "# List the stations and the counts in descending order."
   ]
  },
  {
   "cell_type": "code",
   "execution_count": null,
   "id": "06b77352-678d-424f-bf1e-56a510fd42e5",
   "metadata": {},
   "outputs": [],
   "source": [
    "# Using the most active station id from the previous query, calculate the lowest, highest, and average temperature."
   ]
  },
  {
   "cell_type": "code",
   "execution_count": null,
   "id": "f9dd03d6-2a31-4e31-b705-860a82e425dc",
   "metadata": {},
   "outputs": [],
   "source": [
    "# Using the most active station id"
   ]
  },
  {
   "cell_type": "code",
   "execution_count": null,
   "id": "d5fd367c-52a9-46b9-a1c6-783b7383aead",
   "metadata": {},
   "outputs": [],
   "source": [
    "# Query the last 12 months of temperature observation data for this station and plot the results as a histogram"
   ]
  },
  {
   "cell_type": "code",
   "execution_count": null,
   "id": "b36f6842-2545-4517-bc51-58f67444c77d",
   "metadata": {},
   "outputs": [],
   "source": [
    "# Close Session\n",
    "session.close()"
   ]
  }
 ],
 "metadata": {
  "kernelspec": {
   "display_name": "Python 3",
   "language": "python",
   "name": "python3"
  },
  "language_info": {
   "codemirror_mode": {
    "name": "ipython",
    "version": 3
   },
   "file_extension": ".py",
   "mimetype": "text/x-python",
   "name": "python",
   "nbconvert_exporter": "python",
   "pygments_lexer": "ipython3",
   "version": "3.6.13"
  }
 },
 "nbformat": 4,
 "nbformat_minor": 5
}
