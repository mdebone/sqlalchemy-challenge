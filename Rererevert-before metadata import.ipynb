{
 "cells": [
  {
   "cell_type": "code",
   "execution_count": 1,
   "id": "736fd980-322e-4b67-a397-d5f76175cc57",
   "metadata": {},
   "outputs": [],
   "source": [
    "%matplotlib inline\n",
    "from matplotlib import style\n",
    "style.use('fivethirtyeight')\n",
    "import matplotlib.pyplot as plt"
   ]
  },
  {
   "cell_type": "code",
   "execution_count": 2,
   "id": "eaf3d96d-2019-4dd0-9c72-203890038d81",
   "metadata": {},
   "outputs": [],
   "source": [
    "import numpy as np\n",
    "import pandas as pd\n",
    "import datetime as dt"
   ]
  },
  {
   "cell_type": "code",
   "execution_count": 3,
   "id": "ed109d44-74a0-42b2-8945-da1281c5a74c",
   "metadata": {},
   "outputs": [],
   "source": [
    "# Reflect Tables into SQLAlchemy ORM\n",
    "# Python SQL toolkit and Object Relational Mapper\n",
    "import sqlalchemy\n",
    "from sqlalchemy.ext.automap import automap_base\n",
    "from sqlalchemy.orm import Session\n",
    "from sqlalchemy import create_engine, func, inspect"
   ]
  },
  {
   "cell_type": "code",
   "execution_count": 4,
   "id": "feeca929-44c9-4439-b569-2facc3bc0cf9",
   "metadata": {},
   "outputs": [],
   "source": [
    "# create engine to hawaii.sqlite\n",
    "engine = create_engine(\"sqlite:///hawaii.sqlite\" -)\n",
    "\n",
    "# reflect an existing database into a new model\n",
    "Base = automap_base()\n",
    "\n",
    "# reflect the tables\n",
    "Base.prepare(engine, reflect = True)\n",
    "\n",
    "# Create our session (link) from Python to the DB\n",
    "session = Session(engine)"
   ]
  },
  {
   "cell_type": "code",
   "execution_count": 6,
   "id": "f469bcd9-7ea4-4799-af08-88a269a73b0d",
   "metadata": {
    "scrolled": false
   },
   "outputs": [],
   "source": [
    "# View all of the classes that automap found\n",
    "Base.classes.keys()\n",
    "\n",
    "# Create the inspector and connect it to the engine\n",
    "inspector = inspect(engine)\n",
    "\n",
    "# Collect the names of tables within the database\n",
    "inspector.get_table_names()\n",
    "\n",
    "# get column names\n",
    "for table_name in inspector.get_table_names():\n",
    "   for column in inspector.get_columns(table_name):\n",
    "       print(\"Column: %s\" % column['name'])"
   ]
  },
  {
   "cell_type": "code",
   "execution_count": 7,
   "id": "6029f637",
   "metadata": {},
   "outputs": [],
   "source": [
    "tables = inspector.get_table_names()"
   ]
  },
  {
   "cell_type": "code",
   "execution_count": 8,
   "id": "0b1f4cc3",
   "metadata": {},
   "outputs": [],
   "source": [
    "for x in tables:\n",
    "    print(x)"
   ]
  },
  {
   "cell_type": "code",
   "execution_count": 9,
   "id": "4e5d1b08-69b1-45c1-b9fd-7500d74b44cf",
   "metadata": {},
   "outputs": [
    {
     "ename": "AttributeError",
     "evalue": "measurement",
     "output_type": "error",
     "traceback": [
      "\u001b[1;31m---------------------------------------------------------------------------\u001b[0m",
      "\u001b[1;31mKeyError\u001b[0m                                  Traceback (most recent call last)",
      "\u001b[1;32m~\\anaconda3\\lib\\site-packages\\sqlalchemy\\util\\_collections.py\u001b[0m in \u001b[0;36m__getattr__\u001b[1;34m(self, key)\u001b[0m\n\u001b[0;32m    185\u001b[0m         \u001b[1;32mtry\u001b[0m\u001b[1;33m:\u001b[0m\u001b[1;33m\u001b[0m\u001b[1;33m\u001b[0m\u001b[0m\n\u001b[1;32m--> 186\u001b[1;33m             \u001b[1;32mreturn\u001b[0m \u001b[0mself\u001b[0m\u001b[1;33m.\u001b[0m\u001b[0m_data\u001b[0m\u001b[1;33m[\u001b[0m\u001b[0mkey\u001b[0m\u001b[1;33m]\u001b[0m\u001b[1;33m\u001b[0m\u001b[1;33m\u001b[0m\u001b[0m\n\u001b[0m\u001b[0;32m    187\u001b[0m         \u001b[1;32mexcept\u001b[0m \u001b[0mKeyError\u001b[0m\u001b[1;33m:\u001b[0m\u001b[1;33m\u001b[0m\u001b[1;33m\u001b[0m\u001b[0m\n",
      "\u001b[1;31mKeyError\u001b[0m: 'measurement'",
      "\nDuring handling of the above exception, another exception occurred:\n",
      "\u001b[1;31mAttributeError\u001b[0m                            Traceback (most recent call last)",
      "\u001b[1;32m~\\AppData\\Local\\Temp/ipykernel_17312/4072196778.py\u001b[0m in \u001b[0;36m<module>\u001b[1;34m\u001b[0m\n\u001b[0;32m      1\u001b[0m \u001b[1;31m# Save references to each table\u001b[0m\u001b[1;33m\u001b[0m\u001b[1;33m\u001b[0m\u001b[1;33m\u001b[0m\u001b[0m\n\u001b[1;32m----> 2\u001b[1;33m \u001b[0mMeasurements_ref\u001b[0m \u001b[1;33m=\u001b[0m \u001b[0mBase\u001b[0m\u001b[1;33m.\u001b[0m\u001b[0mclasses\u001b[0m\u001b[1;33m.\u001b[0m\u001b[0mmeasurement\u001b[0m\u001b[1;33m\u001b[0m\u001b[1;33m\u001b[0m\u001b[0m\n\u001b[0m\u001b[0;32m      3\u001b[0m \u001b[0mStations_ref\u001b[0m \u001b[1;33m=\u001b[0m \u001b[0mBase\u001b[0m\u001b[1;33m.\u001b[0m\u001b[0mclasses\u001b[0m\u001b[1;33m.\u001b[0m\u001b[0mstation\u001b[0m\u001b[1;33m\u001b[0m\u001b[1;33m\u001b[0m\u001b[0m\n",
      "\u001b[1;32m~\\anaconda3\\lib\\site-packages\\sqlalchemy\\util\\_collections.py\u001b[0m in \u001b[0;36m__getattr__\u001b[1;34m(self, key)\u001b[0m\n\u001b[0;32m    186\u001b[0m             \u001b[1;32mreturn\u001b[0m \u001b[0mself\u001b[0m\u001b[1;33m.\u001b[0m\u001b[0m_data\u001b[0m\u001b[1;33m[\u001b[0m\u001b[0mkey\u001b[0m\u001b[1;33m]\u001b[0m\u001b[1;33m\u001b[0m\u001b[1;33m\u001b[0m\u001b[0m\n\u001b[0;32m    187\u001b[0m         \u001b[1;32mexcept\u001b[0m \u001b[0mKeyError\u001b[0m\u001b[1;33m:\u001b[0m\u001b[1;33m\u001b[0m\u001b[1;33m\u001b[0m\u001b[0m\n\u001b[1;32m--> 188\u001b[1;33m             \u001b[1;32mraise\u001b[0m \u001b[0mAttributeError\u001b[0m\u001b[1;33m(\u001b[0m\u001b[0mkey\u001b[0m\u001b[1;33m)\u001b[0m\u001b[1;33m\u001b[0m\u001b[1;33m\u001b[0m\u001b[0m\n\u001b[0m\u001b[0;32m    189\u001b[0m \u001b[1;33m\u001b[0m\u001b[0m\n\u001b[0;32m    190\u001b[0m     \u001b[1;32mdef\u001b[0m \u001b[0m__contains__\u001b[0m\u001b[1;33m(\u001b[0m\u001b[0mself\u001b[0m\u001b[1;33m,\u001b[0m \u001b[0mkey\u001b[0m\u001b[1;33m)\u001b[0m\u001b[1;33m:\u001b[0m\u001b[1;33m\u001b[0m\u001b[1;33m\u001b[0m\u001b[0m\n",
      "\u001b[1;31mAttributeError\u001b[0m: measurement"
     ]
    }
   ],
   "source": [
    "# Save references to each table\n",
    "Measurements_ref = Base.classes.measurement\n",
    "Stations_ref = Base.classes.station"
   ]
  },
  {
   "cell_type": "code",
   "execution_count": null,
   "id": "7776708a-f71f-4168-ac35-d916c0f41a26",
   "metadata": {},
   "outputs": [],
   "source": [
    "# Exploratory Precipitation Analysis\n",
    "# Find the most recent date in the data set."
   ]
  },
  {
   "cell_type": "code",
   "execution_count": null,
   "id": "53dccfb3-d43d-48ad-9a1f-ac23acec72fb",
   "metadata": {},
   "outputs": [],
   "source": [
    "# Using the inspector to print the column names within the 'measurement' table and its types\n",
    "columns = inspector.get_columns('measurements')\n",
    "\n",
    "# print(columns)\n",
    "for column in columns:\n",
    "    a = f\"{column['name']} {column['type']} \"\n",
    "    for index, val in column.items():\n",
    "        if index==\"primary_key\" and val==1:\n",
    "            a += \" AUTO INCREMENT\"\n",
    "        else:\n",
    "            a += \"\"\n",
    "    print(a)"
   ]
  },
  {
   "cell_type": "code",
   "execution_count": null,
   "id": "b1388c0c-1a35-41f2-9404-0e6ab5879243",
   "metadata": {},
   "outputs": [],
   "source": [
    "# see what it looks like again but for Measurement\n",
    "#first_row2 = session.query(Measurement).first()\n",
    "#first_row2.__dict__"
   ]
  },
  {
   "cell_type": "code",
   "execution_count": null,
   "id": "424f5116-92fd-4e4d-b57b-01d10eaae925",
   "metadata": {},
   "outputs": [],
   "source": [
    "# okay there isn't one for every day, its 365\n",
    "for row in session.query(Measurement.id, Measurement.date, Measurement.prcp).limit(15).all():\n",
    "    print(row)"
   ]
  },
  {
   "cell_type": "code",
   "execution_count": null,
   "id": "b36e7a74-a5c8-411f-a176-8eca620b063a",
   "metadata": {},
   "outputs": [],
   "source": [
    "# okay there isn't one for every day, its 330\n",
    "# for row in session.query(Measurement.id, Measurement.date, Measurement.prcp).limit(365).all():\n",
    "#     print(row)"
   ]
  },
  {
   "cell_type": "code",
   "execution_count": null,
   "id": "91a1465e-d284-49bd-88ea-27c94bbfef6f",
   "metadata": {},
   "outputs": [],
   "source": [
    "# one more time, with feeling\n",
    "#for row in session.query(Measurement.id, Measurement.date, Measurement.prcp).limit(330).all():\n",
    "#    print(row)"
   ]
  },
  {
   "cell_type": "code",
   "execution_count": null,
   "id": "b55bd50b-3021-46e8-8060-21edf1a0d73e",
   "metadata": {},
   "outputs": [],
   "source": []
  },
  {
   "cell_type": "code",
   "execution_count": null,
   "id": "63077102-fcca-4f6e-87dc-bb7efc48707f",
   "metadata": {
    "tags": []
   },
   "outputs": [],
   "source": [
    "#results = session.query(Measurement).\\\n",
    "#    filter(Measurement.date.like('2017-%')).\\\n",
    "#    count()\n",
    "# results"
   ]
  },
  {
   "cell_type": "code",
   "execution_count": null,
   "id": "4c0eec83-725e-4b17-8d5c-af74442e94ce",
   "metadata": {},
   "outputs": [],
   "source": [
    "#from sqlalchemy import or_, and_\n",
    "#twentyseven = session.query(Measurement).\\\n",
    "#    filter(or_(Measurement.date > '2016-08-23', Measurement.date <= '2017-08-23')).\\\n",
    "#    count()\n",
    "#print(twentyseven)"
   ]
  },
  {
   "cell_type": "code",
   "execution_count": null,
   "id": "a2e87048-e362-486d-b02d-fa01f1b1ff09",
   "metadata": {},
   "outputs": [],
   "source": [
    "# okay we don't need the other part of the greater than because the end date is inclusive and doesnt need to be called\n",
    "from sqlalchemy import or_, and_\n",
    "dates = session.query(Measurement.date, Measurement.prcp).\\\n",
    "    filter(Measurement.date > '2016-08-23').\\\n",
    "    count()\n",
    "print(twentyseven2)"
   ]
  },
  {
   "cell_type": "code",
   "execution_count": null,
   "id": "75ef1c51-e1bd-47f2-8d99-f30f827d1142",
   "metadata": {},
   "outputs": [],
   "source": [
    "#for row in session.query(Measurement.date, Measurement.prcp).filter(Measurement.date > '2016-08-23').all():\n",
    "#    print(row)"
   ]
  },
  {
   "cell_type": "code",
   "execution_count": null,
   "id": "3029527b-c912-4043-a096-1e6105d73086",
   "metadata": {},
   "outputs": [],
   "source": [
    "#records = session.query(Measurement.date, Measurement.prcp).\\\n",
    "#    filter(Measurement.date > '2016-12-31').\\\n",
    "#    all()\n",
    "    \n",
    "#for record in records:\n",
    "#    print(record)"
   ]
  },
  {
   "cell_type": "code",
   "execution_count": null,
   "id": "315745fc-637e-4dee-8e7b-46d16e4dfa86",
   "metadata": {},
   "outputs": [],
   "source": [
    "# Filter out 'None' and replace with '0.0'\n",
    "update_nones = session.query(Measurement).update().where(Measurement.prcp == 'None').values(prcp='0.0')"
   ]
  },
  {
   "cell_type": "code",
   "execution_count": null,
   "id": "c2864019-d2fb-40a8-9d1d-82444e54a4f5",
   "metadata": {},
   "outputs": [],
   "source": [
    "#update_none =session.query(Measurement).where(Measurement.prcp == 'None').all()\n",
    "\n",
    "#print(update_none)"
   ]
  },
  {
   "cell_type": "code",
   "execution_count": null,
   "id": "37855cab-9afa-4aca-ae98-20d3bbf68f9e",
   "metadata": {},
   "outputs": [],
   "source": [
    "#session.new"
   ]
  },
  {
   "cell_type": "code",
   "execution_count": null,
   "id": "9a6e93ae-f1ba-4d94-b7de-121c360567f6",
   "metadata": {},
   "outputs": [],
   "source": [
    "#session.query(Measurement.prcp).all()"
   ]
  },
  {
   "cell_type": "code",
   "execution_count": null,
   "id": "dcaa69ef-0bba-4596-9b37-ecd27fe1740b",
   "metadata": {},
   "outputs": [],
   "source": [
    "df = pd.DataFrame(twentyseven2, columns="
   ]
  },
  {
   "cell_type": "code",
   "execution_count": null,
   "id": "41d12d81-0502-4935-8d3f-b9b664cc6123",
   "metadata": {},
   "outputs": [],
   "source": [
    "# Design a query to retrieve the last 12 months of precipitation data and plot the results."
   ]
  },
  {
   "cell_type": "code",
   "execution_count": null,
   "id": "9579bf0d-fbe3-43af-a329-a67cafab7179",
   "metadata": {},
   "outputs": [],
   "source": [
    "# Starting from the most recent data point in the database. "
   ]
  },
  {
   "cell_type": "code",
   "execution_count": null,
   "id": "d3950a3e-d54d-4f88-a4f6-7d1ecf71e75b",
   "metadata": {},
   "outputs": [],
   "source": [
    "# Calculate the date one year from the last date in data set."
   ]
  },
  {
   "cell_type": "code",
   "execution_count": null,
   "id": "51a0931d-b337-4d4c-a65a-39eeb1bf6ae3",
   "metadata": {},
   "outputs": [],
   "source": [
    "# Perform a query to retrieve the data and precipitation scores"
   ]
  },
  {
   "cell_type": "code",
   "execution_count": null,
   "id": "cd12f948-15ec-4976-bcd8-d4721f2e1720",
   "metadata": {},
   "outputs": [],
   "source": [
    "# Save the query results as a Pandas DataFrame and set the index to the date column"
   ]
  },
  {
   "cell_type": "code",
   "execution_count": null,
   "id": "5f3a5ec5-e472-4bd5-8bcc-3c22c8d44b57",
   "metadata": {},
   "outputs": [],
   "source": [
    "df = pd.DataFrame(results[:10], columns=['emoji_char', 'emoji_id', 'score']"
   ]
  },
  {
   "cell_type": "code",
   "execution_count": null,
   "id": "79899d74-f1b8-4f2f-9eef-7db589de2de0",
   "metadata": {},
   "outputs": [],
   "source": [
    "# Sort the dataframe by date"
   ]
  },
  {
   "cell_type": "code",
   "execution_count": null,
   "id": "1bbce4b3-2f94-4c1f-ab62-0c87d2d29bb6",
   "metadata": {},
   "outputs": [],
   "source": [
    "# Use Pandas Plotting with Matplotlib to plot the data"
   ]
  },
  {
   "cell_type": "code",
   "execution_count": null,
   "id": "da2e0255-85d9-4534-a1ad-ec37bf09b92b",
   "metadata": {},
   "outputs": [],
   "source": [
    "# Exploratory Station Analysis\n",
    "# Design a query to calculate the total number stations in the dataset\n",
    "# Using the inspector to print the column names within the 'station' table and its types\n",
    "columns = inspector.get_columns('station')\n",
    "\n",
    "# print(columns)\n",
    "for column in columns:\n",
    "    a = f\"{column['name']} {column['type']} \"\n",
    "    for index, val in column.items():\n",
    "        if index==\"primary_key\" and val==1:\n",
    "            a += \" AUTO INCREMENT\"\n",
    "        else:\n",
    "            a += \"\"\n",
    "    print(a)"
   ]
  },
  {
   "cell_type": "code",
   "execution_count": null,
   "id": "39e4b67c",
   "metadata": {},
   "outputs": [],
   "source": [
    "# see what Station looks like\n",
    "first_row = session.query(Station).first()\n",
    "first_row.__dict__"
   ]
  },
  {
   "cell_type": "code",
   "execution_count": null,
   "id": "4bc387f7-d084-44ea-950c-6be68e4ba6eb",
   "metadata": {},
   "outputs": [],
   "source": [
    "# Design a query to find the most active stations (i.e. what stations have the most rows?)"
   ]
  },
  {
   "cell_type": "code",
   "execution_count": null,
   "id": "6597369c-9591-4e98-9882-60f08de37774",
   "metadata": {},
   "outputs": [],
   "source": [
    "# List the stations and the counts in descending order."
   ]
  },
  {
   "cell_type": "code",
   "execution_count": null,
   "id": "06b77352-678d-424f-bf1e-56a510fd42e5",
   "metadata": {},
   "outputs": [],
   "source": [
    "# Using the most active station id from the previous query, calculate the lowest, highest, and average temperature."
   ]
  },
  {
   "cell_type": "code",
   "execution_count": null,
   "id": "f9dd03d6-2a31-4e31-b705-860a82e425dc",
   "metadata": {},
   "outputs": [],
   "source": [
    "# Using the most active station id"
   ]
  },
  {
   "cell_type": "code",
   "execution_count": null,
   "id": "d5fd367c-52a9-46b9-a1c6-783b7383aead",
   "metadata": {},
   "outputs": [],
   "source": [
    "# Query the last 12 months of temperature observation data for this station and plot the results as a histogram"
   ]
  },
  {
   "cell_type": "code",
   "execution_count": null,
   "id": "b36f6842-2545-4517-bc51-58f67444c77d",
   "metadata": {},
   "outputs": [],
   "source": [
    "# Close Session\n",
    "session.close()"
   ]
  }
 ],
 "metadata": {
  "kernelspec": {
   "display_name": "Python 3 (ipykernel)",
   "language": "python",
   "name": "python3"
  },
  "language_info": {
   "codemirror_mode": {
    "name": "ipython",
    "version": 3
   },
   "file_extension": ".py",
   "mimetype": "text/x-python",
   "name": "python",
   "nbconvert_exporter": "python",
   "pygments_lexer": "ipython3",
   "version": "3.8.8"
  }
 },
 "nbformat": 4,
 "nbformat_minor": 5
}
